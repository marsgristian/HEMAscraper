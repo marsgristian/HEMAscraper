{
 "cells": [
  {
   "cell_type": "markdown",
   "id": "1fdf0c4f",
   "metadata": {},
   "source": [
    "# This Scraper collects the Salvator Fabris Books\n",
    "\n",
    "- Draft Translation (from the archetype) Draft translation (ca. 1900) by A. F. Johnson (transcribed by Michael Chidester), https://michaelchidester.gumroad.com/l/Fabris\n",
    "- Archetype (1606) Transcribed by Michael Chidester, https://wiktenauer.com/wiki/Index:Scienza_d%27Arme_(Salvator_Fabris)_1606.pdf Index:Scienza d'Arme (Salvator Fabris) 1606\n",
    "\n"
   ]
  },
  {
   "cell_type": "code",
   "execution_count": 2,
   "id": "a7814063",
   "metadata": {},
   "outputs": [
    {
     "name": "stdout",
     "output_type": "stream",
     "text": [
      "12\n"
     ]
    }
   ],
   "source": [
    "import pandas as pd\n",
    "import numpy as np\n",
    "import matplotlib.pyplot as plt\n",
    "from unicodedata import normalize\n",
    "\n",
    "txt_table = pd.read_html('https://wiktenauer.com/wiki/Salvator_Fabris')\n",
    "print(len(txt_table))"
   ]
  },
  {
   "cell_type": "code",
   "execution_count": 3,
   "id": "7929c071",
   "metadata": {},
   "outputs": [
    {
     "name": "stdout",
     "output_type": "stream",
     "text": [
      "Tabela 3: Preface and Dedication\n",
      "Tabela 4: First Part - On the Basics of the Sword Alone\n",
      "Tabela 5: Second Part - Of Sword and Dagger\n",
      "Tabela 6: Third Part - Of Sword and Cape\n",
      "Tabela 7: First Part - On Proceeding with Resolution\n",
      "Tabela 8: Second Part - On Proceeding with Resolution with Sword and Dagger\n",
      "Tabela 9: Third Part - On Wrestling, Grips, Disarms, Cape-Throws, & Dagger Techniques\n",
      "Tabela 10: Copyright and License Summary\n",
      "Tabela 11: References\n",
      "Tabela 12: References\n"
     ]
    }
   ],
   "source": [
    "import requests\n",
    "from bs4 import BeautifulSoup\n",
    "# see the names of the tables to select the books\n",
    "\n",
    "# Obter o conteúdo HTML da página\n",
    "response = requests.get('https://wiktenauer.com/wiki/Salvator_Fabris')\n",
    "soup = BeautifulSoup(response.content, 'html.parser')\n",
    "\n",
    "# Encontrar todas as tabelas na página\n",
    "tabelas_html = soup.find_all('table')\n",
    "\n",
    "# Exibir os títulos das seções para identificar as tabelas desejadas\n",
    "for idx, tabela in enumerate(tabelas_html):\n",
    "    # Encontrar o título da seção anterior à tabela\n",
    "    titulo_secao = tabela.find_previous(['h2', 'h3', 'h4'])\n",
    "    if titulo_secao:\n",
    "        print(f\"Tabela {idx}: {titulo_secao.get_text(strip=True)}\")"
   ]
  },
  {
   "cell_type": "code",
   "execution_count": 11,
   "id": "1216aea9",
   "metadata": {},
   "outputs": [
    {
     "name": "stdout",
     "output_type": "stream",
     "text": [
      "Index(['Illustrations from the 1601', 'Illustrations from the 1606',\n",
      "       'Draft Translation (from the archetype) (ca. 1900) by A. F. Johnson (transcribed by Michael Chidester)',\n",
      "       'Prototype (1601)',\n",
      "       'Archetype (1606) [edit] Transcribed by Michael Chidester',\n",
      "       'German Translation (1677) [edit] Transcribed by Michael Chidester'],\n",
      "      dtype='object')\n"
     ]
    },
    {
     "data": {
      "text/html": [
       "<div>\n",
       "<style scoped>\n",
       "    .dataframe tbody tr th:only-of-type {\n",
       "        vertical-align: middle;\n",
       "    }\n",
       "\n",
       "    .dataframe tbody tr th {\n",
       "        vertical-align: top;\n",
       "    }\n",
       "\n",
       "    .dataframe thead th {\n",
       "        text-align: right;\n",
       "    }\n",
       "</style>\n",
       "<table border=\"1\" class=\"dataframe\">\n",
       "  <thead>\n",
       "    <tr style=\"text-align: right;\">\n",
       "      <th></th>\n",
       "      <th>Illustrations from the 1601</th>\n",
       "      <th>Illustrations from the 1606</th>\n",
       "      <th>Draft Translation (from the archetype) (ca. 1900) by A. F. Johnson (transcribed by Michael Chidester)</th>\n",
       "      <th>Prototype (1601)</th>\n",
       "      <th>Archetype (1606) [edit] Transcribed by Michael Chidester</th>\n",
       "      <th>German Translation (1677) [edit] Transcribed by Michael Chidester</th>\n",
       "    </tr>\n",
       "  </thead>\n",
       "  <tbody>\n",
       "    <tr>\n",
       "      <th>0</th>\n",
       "      <td>NaN</td>\n",
       "      <td>NaN</td>\n",
       "      <td>[1] Fencing, or the Science of Arms by Salvato...</td>\n",
       "      <td>[1r] SIENTIA ET PRATICA DEL' ARME DI SALVATOR ...</td>\n",
       "      <td>[I] DE LO SCHERMO OVERO SCIENZA D’ARME DI SALV...</td>\n",
       "      <td>[I] SCIENZA E PRATICA D' ARME DI SALVATORE FAB...</td>\n",
       "    </tr>\n",
       "    <tr>\n",
       "      <th>1</th>\n",
       "      <td>NaN</td>\n",
       "      <td>NaN</td>\n",
       "      <td>[2]</td>\n",
       "      <td>NaN</td>\n",
       "      <td>[*] SIENZA E PRATICA D’ARME, DI SALVATOR FABRI...</td>\n",
       "      <td>NaN</td>\n",
       "    </tr>\n",
       "    <tr>\n",
       "      <th>2</th>\n",
       "      <td>NaN</td>\n",
       "      <td>NaN</td>\n",
       "      <td>[3]</td>\n",
       "      <td>NaN</td>\n",
       "      <td>[V] VANDALORVM GOTHORVMQVÆ REX CHRISTIANVS III...</td>\n",
       "      <td>NaN</td>\n",
       "    </tr>\n",
       "    <tr>\n",
       "      <th>3</th>\n",
       "      <td>NaN</td>\n",
       "      <td>NaN</td>\n",
       "      <td>[4] To His Serene Majesty, the most Powerful C...</td>\n",
       "      <td>NaN</td>\n",
       "      <td>[VII] ALLA SERma: Mtà: DEL POTENT ISSIMO CHRIS...</td>\n",
       "      <td>NaN</td>\n",
       "    </tr>\n",
       "    <tr>\n",
       "      <th>4</th>\n",
       "      <td>NaN</td>\n",
       "      <td>NaN</td>\n",
       "      <td>[5] To the Reader. Marvel not, Reader, if you ...</td>\n",
       "      <td>NaN</td>\n",
       "      <td>[VIII] A LETTORI. NON TI MARA VIGLIARE, O LETT...</td>\n",
       "      <td>NaN</td>\n",
       "    </tr>\n",
       "  </tbody>\n",
       "</table>\n",
       "</div>"
      ],
      "text/plain": [
       "   Illustrations from the 1601  Illustrations from the 1606  \\\n",
       "0                          NaN                          NaN   \n",
       "1                          NaN                          NaN   \n",
       "2                          NaN                          NaN   \n",
       "3                          NaN                          NaN   \n",
       "4                          NaN                          NaN   \n",
       "\n",
       "  Draft Translation (from the archetype) (ca. 1900) by A. F. Johnson (transcribed by Michael Chidester)  \\\n",
       "0  [1] Fencing, or the Science of Arms by Salvato...                                                      \n",
       "1                                                [2]                                                      \n",
       "2                                                [3]                                                      \n",
       "3  [4] To His Serene Majesty, the most Powerful C...                                                      \n",
       "4  [5] To the Reader. Marvel not, Reader, if you ...                                                      \n",
       "\n",
       "                                    Prototype (1601)  \\\n",
       "0  [1r] SIENTIA ET PRATICA DEL' ARME DI SALVATOR ...   \n",
       "1                                                NaN   \n",
       "2                                                NaN   \n",
       "3                                                NaN   \n",
       "4                                                NaN   \n",
       "\n",
       "  Archetype (1606) [edit] Transcribed by Michael Chidester  \\\n",
       "0  [I] DE LO SCHERMO OVERO SCIENZA D’ARME DI SALV...         \n",
       "1  [*] SIENZA E PRATICA D’ARME, DI SALVATOR FABRI...         \n",
       "2  [V] VANDALORVM GOTHORVMQVÆ REX CHRISTIANVS III...         \n",
       "3  [VII] ALLA SERma: Mtà: DEL POTENT ISSIMO CHRIS...         \n",
       "4  [VIII] A LETTORI. NON TI MARA VIGLIARE, O LETT...         \n",
       "\n",
       "  German Translation (1677) [edit] Transcribed by Michael Chidester  \n",
       "0  [I] SCIENZA E PRATICA D' ARME DI SALVATORE FAB...                 \n",
       "1                                                NaN                 \n",
       "2                                                NaN                 \n",
       "3                                                NaN                 \n",
       "4                                                NaN                 "
      ]
     },
     "execution_count": 11,
     "metadata": {},
     "output_type": "execute_result"
    }
   ],
   "source": [
    "# those are the columns of the DF\n",
    "\n",
    "\n",
    "preface = txt_table[2]\n",
    "print(preface.columns)\n",
    "\n",
    "preface"
   ]
  },
  {
   "cell_type": "code",
   "execution_count": 13,
   "id": "ac00b2bc",
   "metadata": {},
   "outputs": [],
   "source": [
    "#joining the book parts into one DF for each book\n",
    "\n",
    "# the books are located in:\n",
    "# preface = table 2\n",
    "# book1 = part1: table 3, part2: table 4, part3: table 5\n",
    "# book2 = part1: table 6, part2: table7, part3: table 8\n",
    "\n",
    "book1 = pd.concat([txt_table[3],txt_table[4],txt_table[5]],ignore_index=True)\n",
    "#now we remove the useless columns\n",
    "# print(book1.columns)\n",
    "book1 = book1.drop(book1.columns[[0,1,3,5,6]], axis=1)\n",
    "# print(book1.columns)\n",
    "\n",
    "\n",
    "\n",
    "book2 = pd.concat([txt_table[6],txt_table[7],txt_table[8]],ignore_index=True)\n",
    "#now we remove the useless columns\n",
    "# print(book2.columns)\n",
    "book2 = book2.drop(book2.columns[[0,1,3,5,6]], axis=1)\n",
    "# print(book2.columns)\n",
    "\n",
    "# book1\n",
    "# book2"
   ]
  },
  {
   "cell_type": "code",
   "execution_count": 14,
   "id": "c773ba17",
   "metadata": {},
   "outputs": [
    {
     "data": {
      "text/html": [
       "<div>\n",
       "<style scoped>\n",
       "    .dataframe tbody tr th:only-of-type {\n",
       "        vertical-align: middle;\n",
       "    }\n",
       "\n",
       "    .dataframe tbody tr th {\n",
       "        vertical-align: top;\n",
       "    }\n",
       "\n",
       "    .dataframe thead th {\n",
       "        text-align: right;\n",
       "    }\n",
       "</style>\n",
       "<table border=\"1\" class=\"dataframe\">\n",
       "  <thead>\n",
       "    <tr style=\"text-align: right;\">\n",
       "      <th></th>\n",
       "      <th>Draft Translation (from the archetype) (ca. 1900) by A. F. Johnson (transcribed by Michael Chidester)</th>\n",
       "      <th>Archetype (1606) [edit] Transcribed by Michael Chidester</th>\n",
       "    </tr>\n",
       "  </thead>\n",
       "  <tbody>\n",
       "    <tr>\n",
       "      <th>0</th>\n",
       "      <td>[1] Fencing, or the Science of Arms by Salvato...</td>\n",
       "      <td>[I] DE LO SCHERMO OVERO SCIENZA D’ARME DI SALV...</td>\n",
       "    </tr>\n",
       "    <tr>\n",
       "      <th>1</th>\n",
       "      <td>[2]</td>\n",
       "      <td>[*] SIENZA E PRATICA D’ARME, DI SALVATOR FABRI...</td>\n",
       "    </tr>\n",
       "    <tr>\n",
       "      <th>2</th>\n",
       "      <td>[3]</td>\n",
       "      <td>[V] VANDALORVM GOTHORVMQVÆ REX CHRISTIANVS III...</td>\n",
       "    </tr>\n",
       "    <tr>\n",
       "      <th>3</th>\n",
       "      <td>[4] To His Serene Majesty, the most Powerful C...</td>\n",
       "      <td>[VII] ALLA SERma: Mtà: DEL POTENT ISSIMO CHRIS...</td>\n",
       "    </tr>\n",
       "    <tr>\n",
       "      <th>4</th>\n",
       "      <td>[5] To the Reader. Marvel not, Reader, if you ...</td>\n",
       "      <td>[VIII] A LETTORI. NON TI MARA VIGLIARE, O LETT...</td>\n",
       "    </tr>\n",
       "  </tbody>\n",
       "</table>\n",
       "</div>"
      ],
      "text/plain": [
       "  Draft Translation (from the archetype) (ca. 1900) by A. F. Johnson (transcribed by Michael Chidester)  \\\n",
       "0  [1] Fencing, or the Science of Arms by Salvato...                                                      \n",
       "1                                                [2]                                                      \n",
       "2                                                [3]                                                      \n",
       "3  [4] To His Serene Majesty, the most Powerful C...                                                      \n",
       "4  [5] To the Reader. Marvel not, Reader, if you ...                                                      \n",
       "\n",
       "  Archetype (1606) [edit] Transcribed by Michael Chidester  \n",
       "0  [I] DE LO SCHERMO OVERO SCIENZA D’ARME DI SALV...        \n",
       "1  [*] SIENZA E PRATICA D’ARME, DI SALVATOR FABRI...        \n",
       "2  [V] VANDALORVM GOTHORVMQVÆ REX CHRISTIANVS III...        \n",
       "3  [VII] ALLA SERma: Mtà: DEL POTENT ISSIMO CHRIS...        \n",
       "4  [VIII] A LETTORI. NON TI MARA VIGLIARE, O LETT...        "
      ]
     },
     "execution_count": 14,
     "metadata": {},
     "output_type": "execute_result"
    }
   ],
   "source": [
    "#Now with the preface\n",
    "preface = txt_table[2]\n",
    "preface = preface.drop(preface.columns[[0,1,3,5]], axis=1)\n",
    "\n",
    "preface"
   ]
  },
  {
   "cell_type": "code",
   "execution_count": 16,
   "id": "e073f3a7",
   "metadata": {},
   "outputs": [],
   "source": [
    "#Now lets save'em as csv\n",
    "preface.to_csv('../Data/Fabris/preface/preface.csv',index=False)\n",
    "book1.to_csv('../Data/Fabris/book1/book1.csv',index=False)\n",
    "book2.to_csv('../Data/Fabris/book2/book2.csv',index=False)"
   ]
  }
 ],
 "metadata": {
  "kernelspec": {
   "display_name": "Python 3",
   "language": "python",
   "name": "python3"
  },
  "language_info": {
   "codemirror_mode": {
    "name": "ipython",
    "version": 3
   },
   "file_extension": ".py",
   "mimetype": "text/x-python",
   "name": "python",
   "nbconvert_exporter": "python",
   "pygments_lexer": "ipython3",
   "version": "3.12.3"
  }
 },
 "nbformat": 4,
 "nbformat_minor": 5
}

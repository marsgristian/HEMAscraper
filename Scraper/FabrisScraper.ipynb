{
 "cells": [
  {
   "cell_type": "markdown",
   "id": "1fdf0c4f",
   "metadata": {},
   "source": [
    "# This Scraper collects the Salvator Fabris Books\n",
    "\n",
    "- Draft Translation (from the archetype) Draft translation (ca. 1900) by A. F. Johnson (transcribed by Michael Chidester), https://michaelchidester.gumroad.com/l/Fabris\n",
    "- Archetype (1606) Transcribed by Michael Chidester, https://wiktenauer.com/wiki/Index:Scienza_d%27Arme_(Salvator_Fabris)_1606.pdf Index:Scienza d'Arme (Salvator Fabris) 1606\n",
    "\n"
   ]
  },
  {
   "cell_type": "code",
   "execution_count": 1,
   "id": "a7814063",
   "metadata": {},
   "outputs": [
    {
     "name": "stdout",
     "output_type": "stream",
     "text": [
      "12\n"
     ]
    }
   ],
   "source": [
    "import pandas as pd\n",
    "import numpy as np\n",
    "import matplotlib.pyplot as plt\n",
    "from unicodedata import normalize\n",
    "\n",
    "txt_table = pd.read_html('https://wiktenauer.com/wiki/Salvator_Fabris')\n",
    "print(len(txt_table))"
   ]
  },
  {
   "cell_type": "code",
   "execution_count": null,
   "id": "1216aea9",
   "metadata": {},
   "outputs": [
    {
     "name": "stdout",
     "output_type": "stream",
     "text": [
      "Index(['Illustrations from the 1601', 'Illustrations from the 1606',\n",
      "       'Draft Translation (from the archetype) (ca. 1900) by A. F. Johnson (transcribed by Michael Chidester)',\n",
      "       'Prototype (1601)',\n",
      "       'Archetype (1606) [edit] Transcribed by Michael Chidester',\n",
      "       'German Translation (1677) [edit] Transcribed by Alex Kiermayer'],\n",
      "      dtype='object')\n"
     ]
    }
   ],
   "source": [
    "# those are the columns of the DF\n",
    "\n",
    "\n",
    "preface = txt_table[3]\n",
    "print(preface.columns)"
   ]
  },
  {
   "cell_type": "code",
   "execution_count": 24,
   "id": "ac00b2bc",
   "metadata": {},
   "outputs": [],
   "source": [
    "#joining the book parts into one DF for each book\n",
    "\n",
    "# the books are located in:\n",
    "# preface = table 3\n",
    "# book1 = part1: table 4, part2: table 5, part3: table 6\n",
    "# book2 = part1: table 7, part2: table 8, part3: table 9\n",
    "\n",
    "book1 = pd.concat([txt_table[4],txt_table[5],txt_table[6]],ignore_index=True)\n",
    "#now we remove the useless columns\n",
    "# print(book1.columns)\n",
    "book1 = book1.drop(book1.columns[[0,1,3,5,6]], axis=1)\n",
    "# print(book1.columns)\n",
    "\n",
    "\n",
    "\n",
    "book2 = pd.concat([txt_table[7],txt_table[8],txt_table[9]],ignore_index=True)\n",
    "#now we remove the useless columns\n",
    "# print(book2.columns)\n",
    "book2 = book2.drop(book2.columns[[0,1,3,5,6,7,8,9,10]], axis=1)\n",
    "# print(book2.columns)\n",
    "\n",
    "# book1\n",
    "# book2"
   ]
  },
  {
   "cell_type": "code",
   "execution_count": null,
   "id": "c773ba17",
   "metadata": {},
   "outputs": [
    {
     "data": {
      "text/html": [
       "<div>\n",
       "<style scoped>\n",
       "    .dataframe tbody tr th:only-of-type {\n",
       "        vertical-align: middle;\n",
       "    }\n",
       "\n",
       "    .dataframe tbody tr th {\n",
       "        vertical-align: top;\n",
       "    }\n",
       "\n",
       "    .dataframe thead th {\n",
       "        text-align: right;\n",
       "    }\n",
       "</style>\n",
       "<table border=\"1\" class=\"dataframe\">\n",
       "  <thead>\n",
       "    <tr style=\"text-align: right;\">\n",
       "      <th></th>\n",
       "      <th>Draft Translation (from the archetype) (ca. 1900) by A. F. Johnson (transcribed by Michael Chidester)</th>\n",
       "      <th>Archetype (1606) [edit] Transcribed by Michael Chidester</th>\n",
       "    </tr>\n",
       "  </thead>\n",
       "  <tbody>\n",
       "    <tr>\n",
       "      <th>0</th>\n",
       "      <td>[1] General discourse of the first book. The p...</td>\n",
       "      <td>[1] DISCORSO GENERALE DEL PRIMO LIBRO Sopra li...</td>\n",
       "    </tr>\n",
       "    <tr>\n",
       "      <th>1</th>\n",
       "      <td>[2] Description of the four principal guards a...</td>\n",
       "      <td>DICHIARATIONE DELLE QVATTRO Guardie principali...</td>\n",
       "    </tr>\n",
       "    <tr>\n",
       "      <th>2</th>\n",
       "      <td>[3] The divisions of the sword: the faible and...</td>\n",
       "      <td>DIVISIONE DELLA SPADA Per conoscere il debile,...</td>\n",
       "    </tr>\n",
       "    <tr>\n",
       "      <th>3</th>\n",
       "      <td>[4] Method of forming the counter-positions, s...</td>\n",
       "      <td>MODO DI FORMARELE CONTRAPOSTVRE Per intendere ...</td>\n",
       "    </tr>\n",
       "    <tr>\n",
       "      <th>4</th>\n",
       "      <td>[5] Explanation of the two distances, wide and...</td>\n",
       "      <td>[4] DICHIARATIONE PER INTENDERE Delle due misu...</td>\n",
       "    </tr>\n",
       "    <tr>\n",
       "      <th>...</th>\n",
       "      <td>...</td>\n",
       "      <td>...</td>\n",
       "    </tr>\n",
       "    <tr>\n",
       "      <th>62</th>\n",
       "      <td>[63] This is another seconde, but against a qu...</td>\n",
       "      <td>[72] QVEST’ ALTRA SARA PVRE VNA SECONDA, MA CO...</td>\n",
       "    </tr>\n",
       "    <tr>\n",
       "      <th>63</th>\n",
       "      <td>[64] This is a quarte with a turn, which has h...</td>\n",
       "      <td>[73] LA SEGVENTE SARA VNA QVARTA GIRATA, LAQVA...</td>\n",
       "    </tr>\n",
       "    <tr>\n",
       "      <th>64</th>\n",
       "      <td>[65] This is another quarte hitting against a ...</td>\n",
       "      <td>[74] ET QVEST’ ALTRA SARA PVRE VNA QVARTA LAQV...</td>\n",
       "    </tr>\n",
       "    <tr>\n",
       "      <th>65</th>\n",
       "      <td>[66] This is the last hit, in quarte, against ...</td>\n",
       "      <td>[75] ECCI ANCORA L’ VLTIMA FERITA DI QVARTA CO...</td>\n",
       "    </tr>\n",
       "    <tr>\n",
       "      <th>66</th>\n",
       "      <td>[67]</td>\n",
       "      <td>NaN</td>\n",
       "    </tr>\n",
       "  </tbody>\n",
       "</table>\n",
       "<p>67 rows × 2 columns</p>\n",
       "</div>"
      ],
      "text/plain": [
       "   Draft Translation (from the archetype) (ca. 1900) by A. F. Johnson (transcribed by Michael Chidester)  \\\n",
       "0   [1] General discourse of the first book. The p...                                                      \n",
       "1   [2] Description of the four principal guards a...                                                      \n",
       "2   [3] The divisions of the sword: the faible and...                                                      \n",
       "3   [4] Method of forming the counter-positions, s...                                                      \n",
       "4   [5] Explanation of the two distances, wide and...                                                      \n",
       "..                                                ...                                                      \n",
       "62  [63] This is another seconde, but against a qu...                                                      \n",
       "63  [64] This is a quarte with a turn, which has h...                                                      \n",
       "64  [65] This is another quarte hitting against a ...                                                      \n",
       "65  [66] This is the last hit, in quarte, against ...                                                      \n",
       "66                                               [67]                                                      \n",
       "\n",
       "   Archetype (1606) [edit] Transcribed by Michael Chidester  \n",
       "0   [1] DISCORSO GENERALE DEL PRIMO LIBRO Sopra li...        \n",
       "1   DICHIARATIONE DELLE QVATTRO Guardie principali...        \n",
       "2   DIVISIONE DELLA SPADA Per conoscere il debile,...        \n",
       "3   MODO DI FORMARELE CONTRAPOSTVRE Per intendere ...        \n",
       "4   [4] DICHIARATIONE PER INTENDERE Delle due misu...        \n",
       "..                                                ...        \n",
       "62  [72] QVEST’ ALTRA SARA PVRE VNA SECONDA, MA CO...        \n",
       "63  [73] LA SEGVENTE SARA VNA QVARTA GIRATA, LAQVA...        \n",
       "64  [74] ET QVEST’ ALTRA SARA PVRE VNA QVARTA LAQV...        \n",
       "65  [75] ECCI ANCORA L’ VLTIMA FERITA DI QVARTA CO...        \n",
       "66                                                NaN        \n",
       "\n",
       "[67 rows x 2 columns]"
      ]
     },
     "execution_count": 26,
     "metadata": {},
     "output_type": "execute_result"
    }
   ],
   "source": [
    "#Now with the preface\n",
    "preface = txt_table[3]\n",
    "preface = preface.drop(preface.columns[[0,1,3,5]], axis=1)\n",
    "\n",
    "preface"
   ]
  },
  {
   "cell_type": "code",
   "execution_count": 27,
   "id": "e073f3a7",
   "metadata": {},
   "outputs": [],
   "source": [
    "#Now lets save'em as csv\n",
    "preface.to_csv('../Data/Fabris/preface/preface.csv',index=False)\n",
    "book1.to_csv('../Data/Fabris/book1/book1.csv',index=False)\n",
    "book2.to_csv('../Data/Fabris/book2/book2.csv',index=False)"
   ]
  }
 ],
 "metadata": {
  "kernelspec": {
   "display_name": "Python 3",
   "language": "python",
   "name": "python3"
  },
  "language_info": {
   "codemirror_mode": {
    "name": "ipython",
    "version": 3
   },
   "file_extension": ".py",
   "mimetype": "text/x-python",
   "name": "python",
   "nbconvert_exporter": "python",
   "pygments_lexer": "ipython3",
   "version": "3.12.3"
  }
 },
 "nbformat": 4,
 "nbformat_minor": 5
}
